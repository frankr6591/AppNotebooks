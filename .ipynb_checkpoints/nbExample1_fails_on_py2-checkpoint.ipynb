{
 "cells": [
  {
   "cell_type": "markdown",
   "metadata": {},
   "source": [
    "## Start notebook by linking to myapp"
   ]
  },
  {
   "cell_type": "code",
   "execution_count": 4,
   "metadata": {
    "collapsed": false
   },
   "outputs": [
    {
     "ename": "SyntaxError",
     "evalue": "invalid syntax (app_config.py, line 4)",
     "output_type": "error",
     "traceback": [
      "\u001b[1;36m  File \u001b[1;32m\"py_lib/app_config.py\"\u001b[1;36m, line \u001b[1;32m4\u001b[0m\n\u001b[1;33m    improt os, sys\u001b[0m\n\u001b[1;37m            ^\u001b[0m\n\u001b[1;31mSyntaxError\u001b[0m\u001b[1;31m:\u001b[0m invalid syntax\n"
     ]
    }
   ],
   "source": [
    "import os, sys\n",
    "MY_NOTEBOOK = os.path.join(os.getenv('HOME'),'opt','importBugApp')\n",
    "# add my notebook to ipython path\n",
    "os.chdir(MY_NOTEBOOK)\n",
    "sys.path.append(MY_NOTEBOOK) \n",
    "import py_lib.app_config\n",
    "print(os.getenv('MYAPP_STORE'))"
   ]
  },
  {
   "cell_type": "code",
   "execution_count": null,
   "metadata": {
    "collapsed": true
   },
   "outputs": [],
   "source": []
  }
 ],
 "metadata": {
  "kernelspec": {
   "display_name": "transops_py2",
   "language": "python",
   "name": "transops_py2"
  },
  "language_info": {
   "codemirror_mode": {
    "name": "ipython",
    "version": 2
   },
   "file_extension": ".py",
   "mimetype": "text/x-python",
   "name": "python",
   "nbconvert_exporter": "python",
   "pygments_lexer": "ipython2",
   "version": "2.7.6"
  }
 },
 "nbformat": 4,
 "nbformat_minor": 0
}
