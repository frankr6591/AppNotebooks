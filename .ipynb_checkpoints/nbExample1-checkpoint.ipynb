{
 "cells": [
  {
   "cell_type": "markdown",
   "metadata": {},
   "source": [
    "## Start notebook by linking to myapp"
   ]
  },
  {
   "cell_type": "code",
   "execution_count": 7,
   "metadata": {
    "collapsed": false
   },
   "outputs": [
    {
     "name": "stdout",
     "output_type": "stream",
     "text": [
      "/opt/myapp/store\n"
     ]
    }
   ],
   "source": [
    "import os, sys\n",
    "MY_NOTEBOOK = os.path.join(os.getenv('HOME'),'opt','importBugApp')\n",
    "# add my notebook to ipython path\n",
    "os.chdir(MY_NOTEBOOK)\n",
    "sys.path.append(MY_NOTEBOOK) \n",
    "import py_lib.app_config\n",
    "print(os.getenv('APP_STORE'))"
   ]
  },
  {
   "cell_type": "code",
   "execution_count": 8,
   "metadata": {
    "collapsed": false
   },
   "outputs": [
    {
     "ename": "ImportError",
     "evalue": "cannot import name myclass1",
     "output_type": "error",
     "traceback": [
      "\u001b[1;31m---------------------------------------------------------------------------\u001b[0m",
      "\u001b[1;31mImportError\u001b[0m                               Traceback (most recent call last)",
      "\u001b[1;32m<ipython-input-8-dad20b8e87c5>\u001b[0m in \u001b[0;36m<module>\u001b[1;34m()\u001b[0m\n\u001b[1;32m----> 1\u001b[1;33m \u001b[1;32mfrom\u001b[0m \u001b[0mpy_lib\u001b[0m\u001b[1;33m.\u001b[0m\u001b[0mclass1\u001b[0m \u001b[1;32mimport\u001b[0m \u001b[0mmyclass1\u001b[0m\u001b[1;33m\u001b[0m\u001b[0m\n\u001b[0m",
      "\u001b[1;31mImportError\u001b[0m: cannot import name myclass1"
     ]
    }
   ],
   "source": [
    "from py_lib.class1 import myclass1"
   ]
  },
  {
   "cell_type": "code",
   "execution_count": null,
   "metadata": {
    "collapsed": true
   },
   "outputs": [],
   "source": []
  }
 ],
 "metadata": {
  "kernelspec": {
   "display_name": "transops_py2",
   "language": "python",
   "name": "transops_py2"
  },
  "language_info": {
   "codemirror_mode": {
    "name": "ipython",
    "version": 2
   },
   "file_extension": ".py",
   "mimetype": "text/x-python",
   "name": "python",
   "nbconvert_exporter": "python",
   "pygments_lexer": "ipython2",
   "version": "2.7.6"
  }
 },
 "nbformat": 4,
 "nbformat_minor": 0
}
